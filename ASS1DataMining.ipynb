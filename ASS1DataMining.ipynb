{
 "cells": [
  {
   "cell_type": "code",
   "execution_count": 29,
   "metadata": {},
   "outputs": [],
   "source": [
    "# Importing libraries\n",
    "import pandas as pd"
   ]
  },
  {
   "cell_type": "code",
   "execution_count": 30,
   "metadata": {},
   "outputs": [],
   "source": [
    "# Read Data\n",
    "df = pd.read_csv(\"D:\\hotel_bookings.csv\", nrows=300)"
   ]
  },
  {
   "attachments": {},
   "cell_type": "markdown",
   "metadata": {},
   "source": [
    "# Exploring Data"
   ]
  },
  {
   "cell_type": "code",
   "execution_count": 31,
   "metadata": {},
   "outputs": [
    {
     "data": {
      "text/plain": [
       "reservation_date      0\n",
       "country_from          1\n",
       "reserved_room_type    0\n",
       "customer_type         0\n",
       "dtype: int64"
      ]
     },
     "execution_count": 31,
     "metadata": {},
     "output_type": "execute_result"
    }
   ],
   "source": [
    "# Check if there are any nan values \n",
    "df.isna().sum()"
   ]
  },
  {
   "cell_type": "code",
   "execution_count": 32,
   "metadata": {},
   "outputs": [
    {
     "data": {
      "text/plain": [
       "0      False\n",
       "1       True\n",
       "2      False\n",
       "3       True\n",
       "4       True\n",
       "       ...  \n",
       "295     True\n",
       "296     True\n",
       "297    False\n",
       "298     True\n",
       "299     True\n",
       "Length: 300, dtype: bool"
      ]
     },
     "execution_count": 32,
     "metadata": {},
     "output_type": "execute_result"
    }
   ],
   "source": [
    "df.duplicated()"
   ]
  },
  {
   "cell_type": "code",
   "execution_count": 33,
   "metadata": {},
   "outputs": [
    {
     "data": {
      "text/plain": [
       "138"
      ]
     },
     "execution_count": 33,
     "metadata": {},
     "output_type": "execute_result"
    }
   ],
   "source": [
    "df.duplicated().sum()"
   ]
  },
  {
   "cell_type": "code",
   "execution_count": 34,
   "metadata": {},
   "outputs": [
    {
     "data": {
      "text/html": [
       "<div>\n",
       "<style scoped>\n",
       "    .dataframe tbody tr th:only-of-type {\n",
       "        vertical-align: middle;\n",
       "    }\n",
       "\n",
       "    .dataframe tbody tr th {\n",
       "        vertical-align: top;\n",
       "    }\n",
       "\n",
       "    .dataframe thead th {\n",
       "        text-align: right;\n",
       "    }\n",
       "</style>\n",
       "<table border=\"1\" class=\"dataframe\">\n",
       "  <thead>\n",
       "    <tr style=\"text-align: right;\">\n",
       "      <th></th>\n",
       "      <th>reservation_date</th>\n",
       "      <th>country_from</th>\n",
       "      <th>reserved_room_type</th>\n",
       "      <th>customer_type</th>\n",
       "    </tr>\n",
       "  </thead>\n",
       "  <tbody>\n",
       "    <tr>\n",
       "      <th>0</th>\n",
       "      <td>7/1/2015</td>\n",
       "      <td>PRT</td>\n",
       "      <td>C</td>\n",
       "      <td>Transient</td>\n",
       "    </tr>\n",
       "    <tr>\n",
       "      <th>2</th>\n",
       "      <td>7/1/2015</td>\n",
       "      <td>GBR</td>\n",
       "      <td>A</td>\n",
       "      <td>Transient</td>\n",
       "    </tr>\n",
       "    <tr>\n",
       "      <th>8</th>\n",
       "      <td>7/1/2015</td>\n",
       "      <td>PRT</td>\n",
       "      <td>A</td>\n",
       "      <td>Transient</td>\n",
       "    </tr>\n",
       "    <tr>\n",
       "      <th>9</th>\n",
       "      <td>7/1/2015</td>\n",
       "      <td>PRT</td>\n",
       "      <td>D</td>\n",
       "      <td>Transient</td>\n",
       "    </tr>\n",
       "    <tr>\n",
       "      <th>10</th>\n",
       "      <td>7/1/2015</td>\n",
       "      <td>PRT</td>\n",
       "      <td>E</td>\n",
       "      <td>Transient</td>\n",
       "    </tr>\n",
       "    <tr>\n",
       "      <th>...</th>\n",
       "      <td>...</td>\n",
       "      <td>...</td>\n",
       "      <td>...</td>\n",
       "      <td>...</td>\n",
       "    </tr>\n",
       "    <tr>\n",
       "      <th>290</th>\n",
       "      <td>7/11/2015</td>\n",
       "      <td>CZE</td>\n",
       "      <td>E</td>\n",
       "      <td>Transient</td>\n",
       "    </tr>\n",
       "    <tr>\n",
       "      <th>291</th>\n",
       "      <td>7/11/2015</td>\n",
       "      <td>GBR</td>\n",
       "      <td>A</td>\n",
       "      <td>Transient</td>\n",
       "    </tr>\n",
       "    <tr>\n",
       "      <th>292</th>\n",
       "      <td>7/11/2015</td>\n",
       "      <td>DEU</td>\n",
       "      <td>A</td>\n",
       "      <td>Transient</td>\n",
       "    </tr>\n",
       "    <tr>\n",
       "      <th>293</th>\n",
       "      <td>7/11/2015</td>\n",
       "      <td>ESP</td>\n",
       "      <td>G</td>\n",
       "      <td>Transient</td>\n",
       "    </tr>\n",
       "    <tr>\n",
       "      <th>297</th>\n",
       "      <td>7/11/2015</td>\n",
       "      <td>ROU</td>\n",
       "      <td>C</td>\n",
       "      <td>Transient</td>\n",
       "    </tr>\n",
       "  </tbody>\n",
       "</table>\n",
       "<p>162 rows × 4 columns</p>\n",
       "</div>"
      ],
      "text/plain": [
       "    reservation_date country_from reserved_room_type customer_type\n",
       "0           7/1/2015          PRT                  C     Transient\n",
       "2           7/1/2015          GBR                  A     Transient\n",
       "8           7/1/2015          PRT                  A     Transient\n",
       "9           7/1/2015          PRT                  D     Transient\n",
       "10          7/1/2015          PRT                  E     Transient\n",
       "..               ...          ...                ...           ...\n",
       "290        7/11/2015          CZE                  E     Transient\n",
       "291        7/11/2015          GBR                  A     Transient\n",
       "292        7/11/2015          DEU                  A     Transient\n",
       "293        7/11/2015          ESP                  G     Transient\n",
       "297        7/11/2015          ROU                  C     Transient\n",
       "\n",
       "[162 rows x 4 columns]"
      ]
     },
     "execution_count": 34,
     "metadata": {},
     "output_type": "execute_result"
    }
   ],
   "source": [
    "df.drop_duplicates()"
   ]
  },
  {
   "cell_type": "code",
   "execution_count": 35,
   "metadata": {},
   "outputs": [
    {
     "data": {
      "text/plain": [
       "reservation_date      11\n",
       "country_from          24\n",
       "reserved_room_type     7\n",
       "customer_type          3\n",
       "dtype: int64"
      ]
     },
     "execution_count": 35,
     "metadata": {},
     "output_type": "execute_result"
    }
   ],
   "source": [
    "# unique values of each column\n",
    "df.nunique()"
   ]
  },
  {
   "attachments": {},
   "cell_type": "markdown",
   "metadata": {},
   "source": [
    "# Converting data into lists "
   ]
  },
  {
   "cell_type": "code",
   "execution_count": 36,
   "metadata": {},
   "outputs": [],
   "source": [
    "# Extract the relevant columns and create a list of transactions\n",
    "transactions = df[[\"reservation_date\", \"country_from\", \"reserved_room_type\", \"customer_type\"]].values.tolist()"
   ]
  },
  {
   "attachments": {},
   "cell_type": "markdown",
   "metadata": {},
   "source": [
    "# Building the model"
   ]
  },
  {
   "cell_type": "code",
   "execution_count": 37,
   "metadata": {},
   "outputs": [],
   "source": [
    "# Implement Apriori algorithm from scratch to generate frequent item sets\n",
    "def generate_frequent_item_sets(transactions, min_support):\n",
    "    item_counts = {}\n",
    "    for transaction in transactions:\n",
    "        for item in transaction:\n",
    "            if item in item_counts:\n",
    "                item_counts[item] += 1\n",
    "            else:\n",
    "                item_counts[item] = 1\n",
    "    frequent_items = {frozenset([item]): count for item, count in item_counts.items() if count >= min_support}\n",
    "    current_frequent_items = frequent_items\n",
    "    while current_frequent_items:\n",
    "        next_frequent_items = {}\n",
    "        for itemset in current_frequent_items.keys():\n",
    "            for item in item_counts.keys():\n",
    "                if item not in itemset:\n",
    "                    new_itemset = itemset.union(frozenset([item]))\n",
    "                    if new_itemset not in next_frequent_items:\n",
    "                        next_frequent_items[new_itemset] = 0\n",
    "                    for transaction in transactions:\n",
    "                        if new_itemset.issubset(transaction):\n",
    "                            next_frequent_items[new_itemset] += 1\n",
    "        current_frequent_items = {itemset: count for itemset, count in next_frequent_items.items() if count >= min_support}\n",
    "        frequent_items.update(current_frequent_items)\n",
    "    return frequent_items"
   ]
  },
  {
   "cell_type": "code",
   "execution_count": 38,
   "metadata": {},
   "outputs": [],
   "source": [
    "# Generate association rules from frequent item sets based on minimum confidence threshold provided by user\n",
    "def generate_association_rules(frequent_item_sets, min_confidence):\n",
    "    association_rules = []\n",
    "    for itemset in frequent_item_sets.keys():\n",
    "        if len(itemset) > 1:\n",
    "            for item in itemset:\n",
    "                antecedent = frozenset([item])\n",
    "                consequent = itemset.difference(antecedent)\n",
    "                if antecedent in frequent_item_sets and consequent in frequent_item_sets:\n",
    "                    confidence = frequent_item_sets[itemset] / frequent_item_sets[antecedent]\n",
    "                    if confidence >= min_confidence:\n",
    "                        association_rules.append((antecedent, consequent, confidence))\n",
    "    return association_rules"
   ]
  },
  {
   "cell_type": "code",
   "execution_count": 39,
   "metadata": {},
   "outputs": [],
   "source": [
    "# Get input from user for minimum support and minimum confidence and generate frequent item sets and association rules\n",
    "min_support = int(input(\"Enter minimum support: \"))\n",
    "frequent_item_sets = generate_frequent_item_sets(transactions, min_support)\n",
    "\n",
    "min_confidence = float(input(\"Enter minimum confidence: \"))\n",
    "association_rules = generate_association_rules(frequent_item_sets, min_confidence)"
   ]
  },
  {
   "attachments": {},
   "cell_type": "markdown",
   "metadata": {},
   "source": [
    "# Display Results"
   ]
  },
  {
   "cell_type": "code",
   "execution_count": 40,
   "metadata": {},
   "outputs": [
    {
     "name": "stdout",
     "output_type": "stream",
     "text": [
      "Frequent Item Sets:\n",
      "{'PRT'}\t\t160\n",
      "{'Transient'}\t\t261\n",
      "{'A'}\t\t132\n",
      "{'D'}\t\t61\n",
      "{'Transient', 'PRT'}\t\t304\n",
      "{'A', 'PRT'}\t\t136\n",
      "{'D', 'PRT'}\t\t66\n",
      "{'A', 'Transient'}\t\t236\n",
      "{'D', 'Transient'}\t\t92\n",
      "{'A', 'Transient', 'PRT'}\t\t198\n",
      "{'D', 'Transient', 'PRT'}\t\t90\n",
      "\n",
      "Association Rules:\n",
      "{'Transient'} => {'PRT'}\t\t1.1647509578544062\n",
      "{'PRT'} => {'Transient'}\t\t1.9\n",
      "{'A'} => {'PRT'}\t\t1.0303030303030303\n",
      "{'PRT'} => {'A'}\t\t0.85\n",
      "{'D'} => {'PRT'}\t\t1.0819672131147542\n",
      "{'A'} => {'Transient'}\t\t1.7878787878787878\n",
      "{'Transient'} => {'A'}\t\t0.9042145593869731\n",
      "{'D'} => {'Transient'}\t\t1.5081967213114753\n",
      "{'A'} => {'Transient', 'PRT'}\t\t1.5\n",
      "{'Transient'} => {'A', 'PRT'}\t\t0.7586206896551724\n",
      "{'PRT'} => {'Transient', 'A'}\t\t1.2375\n",
      "{'D'} => {'Transient', 'PRT'}\t\t1.4754098360655739\n",
      "{'PRT'} => {'D', 'Transient'}\t\t0.5625\n"
     ]
    }
   ],
   "source": [
    "# Print frequent item sets and association rules with their confidence\n",
    "print(\"Frequent Item Sets:\")\n",
    "for itemset, count in frequent_item_sets.items():\n",
    "    print(f\"{set(itemset)}\\t\\t{count}\")\n",
    "\n",
    "print(\"\\nAssociation Rules:\")\n",
    "for antecedent, consequent, confidence in association_rules:\n",
    "    print(f\"{set(antecedent)} => {set(consequent)}\\t\\t{confidence}\")"
   ]
  }
 ],
 "metadata": {
  "kernelspec": {
   "display_name": "base",
   "language": "python",
   "name": "python3"
  },
  "language_info": {
   "codemirror_mode": {
    "name": "ipython",
    "version": 3
   },
   "file_extension": ".py",
   "mimetype": "text/x-python",
   "name": "python",
   "nbconvert_exporter": "python",
   "pygments_lexer": "ipython3",
   "version": "3.9.7"
  },
  "orig_nbformat": 4
 },
 "nbformat": 4,
 "nbformat_minor": 2
}
